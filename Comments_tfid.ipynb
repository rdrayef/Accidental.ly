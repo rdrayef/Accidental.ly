{
  "nbformat": 4,
  "nbformat_minor": 0,
  "metadata": {
    "colab": {
      "provenance": [],
      "authorship_tag": "ABX9TyPRmFRKTZjCOiYGVMBKIiiP",
      "include_colab_link": true
    },
    "kernelspec": {
      "name": "python3",
      "display_name": "Python 3"
    },
    "language_info": {
      "name": "python"
    }
  },
  "cells": [
    {
      "cell_type": "markdown",
      "metadata": {
        "id": "view-in-github",
        "colab_type": "text"
      },
      "source": [
        "<a href=\"https://colab.research.google.com/github/rdrayef/Accidental.ly/blob/master/Comments_tfid.ipynb\" target=\"_parent\"><img src=\"https://colab.research.google.com/assets/colab-badge.svg\" alt=\"Open In Colab\"/></a>"
      ]
    },
    {
      "cell_type": "code",
      "execution_count": 78,
      "metadata": {
        "id": "Zrn6xJHVdazc"
      },
      "outputs": [],
      "source": [
        "import numpy as np\n",
        "import pandas as pd\n",
        "from sklearn.feature_extraction.text import TfidfVectorizer\n",
        "from tensorflow.keras.models import Sequential\n",
        "from tensorflow.keras.layers import Dense, LSTM\n",
        "from tensorflow.keras.callbacks import EarlyStopping\n",
        "from sklearn.model_selection import train_test_split"
      ]
    },
    {
      "cell_type": "code",
      "source": [
        "# Step 2: Load and Preprocess Data\n",
        "data = pd.read_csv('amazon_alexa.tsv', delimiter='\\t')"
      ],
      "metadata": {
        "id": "jJnMsDeYdf20"
      },
      "execution_count": 79,
      "outputs": []
    },
    {
      "cell_type": "code",
      "source": [
        "# Extract the relevant columns\n",
        "comments = data['verified_reviews'].astype(str)\n",
        "labels = data['feedback']"
      ],
      "metadata": {
        "id": "82-n9jNDdi9l"
      },
      "execution_count": 80,
      "outputs": []
    },
    {
      "cell_type": "code",
      "source": [
        "# Perform data preprocessing (e.g., cleaning, tokenization) on the reviews as needed\n",
        "\n",
        "# Step 4: TF-IDF Vectorization\n",
        "tfidf_vectorizer = TfidfVectorizer()\n",
        "features = tfidf_vectorizer.fit_transform(comments)\n"
      ],
      "metadata": {
        "id": "WFnFt8FWdmCK"
      },
      "execution_count": 81,
      "outputs": []
    },
    {
      "cell_type": "code",
      "source": [
        "# Convert labels to numpy array\n",
        "labels = np.array(labels)"
      ],
      "metadata": {
        "id": "BCCqhN48dpWk"
      },
      "execution_count": 82,
      "outputs": []
    },
    {
      "cell_type": "code",
      "source": [
        "# Step 3: Split the Data\n",
        "train_features, test_features, train_labels, test_labels = train_test_split(features, labels, test_size=0.2, random_state=42)"
      ],
      "metadata": {
        "id": "A9hAyUNHhDnC"
      },
      "execution_count": 83,
      "outputs": []
    },
    {
      "cell_type": "code",
      "source": [
        "# Reshape the input features for LSTM\n",
        "train_features = train_features.toarray().reshape(train_features.shape[0], 1, train_features.shape[1])\n",
        "test_features = test_features.toarray().reshape(test_features.shape[0], 1, test_features.shape[1])\n"
      ],
      "metadata": {
        "id": "lloEc8CLdtEI"
      },
      "execution_count": 84,
      "outputs": []
    },
    {
      "cell_type": "code",
      "source": [
        "# Step 5: Build LSTM Model\n",
        "model = Sequential()\n",
        "model.add(LSTM(128, input_shape=(train_features.shape[1], train_features.shape[2]), dropout=0.2, recurrent_dropout=0.2))\n",
        "model.add(Dense(1, activation='sigmoid'))"
      ],
      "metadata": {
        "id": "Cl_iELKEdwQs"
      },
      "execution_count": 85,
      "outputs": []
    },
    {
      "cell_type": "code",
      "source": [
        "# Compile the model\n",
        "model.compile(loss='binary_crossentropy', optimizer='adam', metrics=['accuracy'])\n",
        "\n",
        "# Step 6: Train the Model\n",
        "early_stopping = EarlyStopping(patience=3, monitor='val_loss', restore_best_weights=True)\n",
        "history = model.fit(train_features, train_labels, epochs=10, batch_size=32, validation_split=0.2, callbacks=[early_stopping])"
      ],
      "metadata": {
        "colab": {
          "base_uri": "https://localhost:8080/"
        },
        "id": "ACW41BDTdymo",
        "outputId": "0f89b2f6-120c-49cd-c8a5-3c87c7048ddb"
      },
      "execution_count": 86,
      "outputs": [
        {
          "output_type": "stream",
          "name": "stdout",
          "text": [
            "Epoch 1/10\n",
            "63/63 [==============================] - 5s 47ms/step - loss: 0.5353 - accuracy: 0.9132 - val_loss: 0.3512 - val_accuracy: 0.9345\n",
            "Epoch 2/10\n",
            "63/63 [==============================] - 3s 41ms/step - loss: 0.3000 - accuracy: 0.9177 - val_loss: 0.2339 - val_accuracy: 0.9345\n",
            "Epoch 3/10\n",
            "63/63 [==============================] - 3s 43ms/step - loss: 0.2412 - accuracy: 0.9177 - val_loss: 0.2063 - val_accuracy: 0.9345\n",
            "Epoch 4/10\n",
            "63/63 [==============================] - 4s 62ms/step - loss: 0.2005 - accuracy: 0.9182 - val_loss: 0.1851 - val_accuracy: 0.9345\n",
            "Epoch 5/10\n",
            "63/63 [==============================] - 3s 42ms/step - loss: 0.1685 - accuracy: 0.9211 - val_loss: 0.1655 - val_accuracy: 0.9365\n",
            "Epoch 6/10\n",
            "63/63 [==============================] - 3s 41ms/step - loss: 0.1364 - accuracy: 0.9365 - val_loss: 0.1487 - val_accuracy: 0.9405\n",
            "Epoch 7/10\n",
            "63/63 [==============================] - 3s 41ms/step - loss: 0.1068 - accuracy: 0.9563 - val_loss: 0.1376 - val_accuracy: 0.9425\n",
            "Epoch 8/10\n",
            "63/63 [==============================] - 3s 50ms/step - loss: 0.0856 - accuracy: 0.9688 - val_loss: 0.1308 - val_accuracy: 0.9524\n",
            "Epoch 9/10\n",
            "63/63 [==============================] - 3s 49ms/step - loss: 0.0708 - accuracy: 0.9777 - val_loss: 0.1264 - val_accuracy: 0.9544\n",
            "Epoch 10/10\n",
            "63/63 [==============================] - 3s 41ms/step - loss: 0.0607 - accuracy: 0.9812 - val_loss: 0.1255 - val_accuracy: 0.9563\n"
          ]
        }
      ]
    },
    {
      "cell_type": "code",
      "source": [
        "# Example comments for testing\n",
        "example_comments = [\n",
        "    \"Great\t\",\n",
        "    \"looks great\",\n",
        "    \"Not much features.\"\n",
        "]\n",
        "\n",
        "# Preprocess the example comments (cleaning, tokenization) as needed\n",
        "\n",
        "# Vectorize the example comments using TF-IDF\n",
        "example_features = tfidf_vectorizer.transform(example_comments)\n",
        "example_features = example_features.toarray().reshape(example_features.shape[0], 1, example_features.shape[1])\n",
        "\n",
        "# Predict the sentiment of the example comments\n",
        "predictions = model.predict(example_features)\n",
        "\n",
        "# Convert the predictions to sentiment labels\n",
        "sentiments = ['Positive' if prediction >= 0.5 else 'Negative' for prediction in predictions]\n",
        "\n",
        "# Print the sentiment predictions for the example comments\n",
        "for comment, sentiment in zip(example_comments, sentiments):\n",
        "    print(\"Comment:\", comment)\n",
        "    print(\"Sentiment:\", sentiment)"
      ],
      "metadata": {
        "colab": {
          "base_uri": "https://localhost:8080/"
        },
        "id": "yalXY0qVd02_",
        "outputId": "f034a136-3a8e-4c54-bba8-8b1b68f2adee"
      },
      "execution_count": 87,
      "outputs": [
        {
          "output_type": "stream",
          "name": "stdout",
          "text": [
            "1/1 [==============================] - 0s 265ms/step\n",
            "Comment: Great\t\n",
            "Sentiment: Positive\n",
            "Comment: looks great\n",
            "Sentiment: Positive\n",
            "Comment: Not much features.\n",
            "Sentiment: Negative\n"
          ]
        }
      ]
    }
  ]
}